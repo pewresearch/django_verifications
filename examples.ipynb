{
 "cells": [
  {
   "cell_type": "code",
   "execution_count": 1,
   "id": "still-constant",
   "metadata": {},
   "outputs": [],
   "source": [
    "PROJECT_FOLDER = \"/apps/prod/logos\""
   ]
  },
  {
   "cell_type": "code",
   "execution_count": 2,
   "id": "absolute-indicator",
   "metadata": {},
   "outputs": [],
   "source": [
    "# # For future reference, this is how we can set up the test database in a notebook, for examples\n",
    "\n",
    "# import sys, os\n",
    "# DJANGO_LOCATION = \"/Users/pvankessel/.pyenv/versions/3.6.5/envs/python3/lib/python3.6/site-packages\"\n",
    "# sys.path.append(DJANGO_LOCATION)\n",
    "# import django\n",
    "# os.environ[\"DJANGO_ALLOW_ASYNC_UNSAFE\"] = \"true\"\n",
    "# os.environ['DJANGO_SETTINGS_MODULE'] = 'testapp.settings'\n",
    "# django.setup()\n",
    "\n",
    "# from django import test\n",
    "# from django.db import connection\n",
    "# test.utils.setup_test_environment() # Setup the environment\n",
    "# db = connection.creation.create_test_db() # Create the test db\n",
    "\n",
    "# from testapp.tests.abstract_models import AbstractModelTests\n",
    "# AbstractModelTests().setUp()"
   ]
  },
  {
   "cell_type": "code",
   "execution_count": 3,
   "id": "pending-finland",
   "metadata": {},
   "outputs": [],
   "source": [
    "# Something we should probably add to django_pewtils\n",
    "def set_up_django_project(project_name, project_path, env_file=None):\n",
    "    \n",
    "    import django\n",
    "    import os, sys\n",
    "    import numpy as np\n",
    "    from contextlib import closing\n",
    "\n",
    "    from rasterio.env import GDALDataFinder\n",
    "    os.environ[\"DJANGO_ALLOW_ASYNC_UNSAFE\"] = \"true\"\n",
    "    os.environ[\"DJANGO_SETTINGS_MODULE\"] = \"{}.settings\".format(project_name)\n",
    "    os.environ[\"GDAL_DATA\"] = GDALDataFinder().search()\n",
    "    \n",
    "    if env_file:\n",
    "        with closing(open(env_file, \"r\")) as infile:\n",
    "            for line in infile.readlines():\n",
    "                key = line.split(\"=\")[0]\n",
    "                if key != \"PYTHONPATH\":\n",
    "                    value = \"=\".join(line.split(\"=\")[1:]).strip('\"').strip(\"\\n\")\n",
    "                    os.environ[key] = value\n",
    "\n",
    "    for i, path in enumerate({project_path, '{}/src'.format(project_path)}):\n",
    "        try:\n",
    "            del sys.path[sys.path.index(path)]\n",
    "        except ValueError:\n",
    "            pass\n",
    "        sys.path.insert(i, path)\n",
    "    for folder in os.listdir('{}/src'.format(project_path)):\n",
    "        sys.path.insert(0, os.path.join(project_path, \"src\", folder))\n",
    "    if \"/apps/prod\" not in project_path:\n",
    "        for path in list(sys.path):\n",
    "            if '/apps/prod' in path:\n",
    "                del sys.path[sys.path.index(path)]\n",
    "    \n",
    "    django.setup()\n",
    "    \n",
    "# Change the folder paths to wherever you have sermonator checked out\n",
    "set_up_django_project(\n",
    "    \"logos\", \n",
    "    PROJECT_FOLDER, \n",
    "    env_file=\"{}/deploy/prod/master/conf/logos.env\".format(PROJECT_FOLDER)\n",
    ")"
   ]
  },
  {
   "cell_type": "code",
   "execution_count": null,
   "id": "hazardous-allocation",
   "metadata": {},
   "outputs": [],
   "source": [
    "from logos.models import *\n",
    "import pandas as pd"
   ]
  },
  {
   "cell_type": "markdown",
   "id": "comfortable-portland",
   "metadata": {},
   "source": [
    "# Django Verifications\n",
    "\n",
    "Django Verifications is designed to make it easier to check database data for accuracy and make corrections where necessary. It also prevents any accidental modifications to data once it's been checked. Let's take a look at Logos, where we use Django Verifications to check our list of politicians' Facebook pages. We'll take a look at Bernie Sanders' personal Facebook page, which is an instance of the FacebookPage model in Logos."
   ]
  },
  {
   "cell_type": "code",
   "execution_count": 76,
   "id": "lesser-seminar",
   "metadata": {},
   "outputs": [
    {
     "data": {
      "text/plain": [
       "<FacebookPage: berniesanders (Bernard 'Bernie' Sanders)>"
      ]
     },
     "execution_count": 76,
     "metadata": {},
     "output_type": "execute_result"
    }
   ],
   "source": [
    "bernie = FacebookPage.objects.get(facebook_id=\"124955570892789\")\n",
    "bernie"
   ]
  },
  {
   "cell_type": "code",
   "execution_count": 77,
   "id": "religious-milan",
   "metadata": {},
   "outputs": [
    {
     "data": {
      "text/plain": [
       "logos.models.facebook.FacebookPage"
      ]
     },
     "execution_count": 77,
     "metadata": {},
     "output_type": "execute_result"
    }
   ],
   "source": [
    "type(bernie)"
   ]
  },
  {
   "cell_type": "markdown",
   "id": "minute-procurement",
   "metadata": {},
   "source": [
    "### Configuration\n",
    "\n",
    "To configure Django Verifications, you need to tell it a few things:\n",
    "\n",
    "1) Which tables you want to verify. You do this by simply having those models inherit from `django_verifications.models.VerifiedModel`"
   ]
  },
  {
   "cell_type": "code",
   "execution_count": 78,
   "id": "unlike-frank",
   "metadata": {},
   "outputs": [
    {
     "data": {
      "text/plain": [
       "True"
      ]
     },
     "execution_count": 78,
     "metadata": {},
     "output_type": "execute_result"
    }
   ],
   "source": [
    "from django_verifications.models import VerifiedModel\n",
    "isinstance(bernie, VerifiedModel)"
   ]
  },
  {
   "cell_type": "markdown",
   "id": "built-impossible",
   "metadata": {},
   "source": [
    "2) Which fields on the table you want to verify. You do this by defining a `fields_to_verify` list as one of your model's `Meta` attributes"
   ]
  },
  {
   "cell_type": "code",
   "execution_count": 79,
   "id": "biblical-score",
   "metadata": {},
   "outputs": [
    {
     "data": {
      "text/plain": [
       "['politician', 'is_official', 'account_type']"
      ]
     },
     "execution_count": 79,
     "metadata": {},
     "output_type": "execute_result"
    }
   ],
   "source": [
    "FacebookPage._meta.fields_to_verify"
   ]
  },
  {
   "cell_type": "markdown",
   "id": "smoking-madison",
   "metadata": {},
   "source": [
    "3) Which rows in the table you care about. You do this by defining Django filters in a `verification_filters` list in your model's `Meta` attributes"
   ]
  },
  {
   "cell_type": "code",
   "execution_count": 80,
   "id": "brazilian-pepper",
   "metadata": {},
   "outputs": [
    {
     "data": {
      "text/plain": [
       "[{'politician__isnull': False}]"
      ]
     },
     "execution_count": 80,
     "metadata": {},
     "output_type": "execute_result"
    }
   ],
   "source": [
    "FacebookPage._meta.verification_filters"
   ]
  },
  {
   "cell_type": "markdown",
   "id": "facial-arabic",
   "metadata": {},
   "source": [
    "4) What information you want to use when you're coding. You do this by defining a custom `get_verification_metadata()` function on your model - it just needs to return a dictionary. If you don't define this function, Django Verifications will just pull everything it can from the table"
   ]
  },
  {
   "cell_type": "code",
   "execution_count": 81,
   "id": "diagnostic-consistency",
   "metadata": {},
   "outputs": [
    {
     "data": {
      "text/plain": [
       "{'name': 'Bernie Sanders',\n",
       " 'username': 'berniesanders',\n",
       " 'city': 'Burlington',\n",
       " 'state': <State: Vermont>,\n",
       " 'link': 'https://www.facebook.com/berniesanders/',\n",
       " 'category': 'Public Figure',\n",
       " 'websites': ['https://berniesanders.com'],\n",
       " 'about': 'This is the official page for Bernie Sanders. Join our political revolution!',\n",
       " 'bio': None,\n",
       " 'politician': \"Bernard 'Bernie' Sanders --- latest term: Bernard 'Bernie' Sanders term as Senator of Vermont, U.S. Senate (Class 1), 2019 - 2025\",\n",
       " 'other_accounts': ['senatorsanders'],\n",
       " 'facebook_id': '124955570892789'}"
      ]
     },
     "execution_count": 81,
     "metadata": {},
     "output_type": "execute_result"
    }
   ],
   "source": [
    "bernie.get_verification_metadata()"
   ]
  },
  {
   "cell_type": "markdown",
   "id": "spare-tucson",
   "metadata": {},
   "source": [
    "### Verification objects\n",
    "\n",
    "Django Verifications provides an interface for verifying and correcting data, but behind the scenes, what it's actually doing is creating associations between your app's VerifiedModel models, and its own Verification model. Let's see everything we've verified in Logos:"
   ]
  },
  {
   "cell_type": "code",
   "execution_count": 82,
   "id": "sweet-desktop",
   "metadata": {},
   "outputs": [
    {
     "data": {
      "text/plain": [
       "22738"
      ]
     },
     "execution_count": 82,
     "metadata": {},
     "output_type": "execute_result"
    }
   ],
   "source": [
    "from django_verifications.models import Verification\n",
    "\n",
    "Verification.objects.all().count()"
   ]
  },
  {
   "cell_type": "markdown",
   "id": "veterinary-leather",
   "metadata": {},
   "source": [
    "The Verification model actually has its own `VerificationManager` with some handy filtering functions to help sort through everything."
   ]
  },
  {
   "cell_type": "code",
   "execution_count": 83,
   "id": "coordinate-principal",
   "metadata": {},
   "outputs": [
    {
     "data": {
      "text/plain": [
       "['politician', 'twitter_profile', 'facebook_page']"
      ]
     },
     "execution_count": 83,
     "metadata": {},
     "output_type": "execute_result"
    }
   ],
   "source": [
    "Verification.objects.available_model_names()"
   ]
  },
  {
   "cell_type": "code",
   "execution_count": 84,
   "id": "imposed-hardware",
   "metadata": {},
   "outputs": [
    {
     "data": {
      "text/plain": [
       "10672"
      ]
     },
     "execution_count": 84,
     "metadata": {},
     "output_type": "execute_result"
    }
   ],
   "source": [
    "Verification.objects.filter_by_model_name(\"facebook_page\").count()"
   ]
  },
  {
   "cell_type": "code",
   "execution_count": 85,
   "id": "satisfied-potato",
   "metadata": {},
   "outputs": [
    {
     "data": {
      "text/plain": [
       "3058"
      ]
     },
     "execution_count": 85,
     "metadata": {},
     "output_type": "execute_result"
    }
   ],
   "source": [
    "Verification.objects.flagged_for_verification(\"facebook_page\").count()"
   ]
  },
  {
   "cell_type": "markdown",
   "id": "noted-craps",
   "metadata": {},
   "source": [
    "You usually don't need to worry about this though - not only is everything taken care of through the interface, but your own `VerifiedModel` instances also get their own `VerifiedModelManager` that provides all this functionality in the opposite direction, so there's no need to import anything from Django Verifications."
   ]
  },
  {
   "cell_type": "code",
   "execution_count": 86,
   "id": "humanitarian-worcester",
   "metadata": {},
   "outputs": [
    {
     "data": {
      "text/plain": [
       "3058"
      ]
     },
     "execution_count": 86,
     "metadata": {},
     "output_type": "execute_result"
    }
   ],
   "source": [
    "FacebookPage.objects.flagged_for_verification().count()"
   ]
  },
  {
   "cell_type": "markdown",
   "id": "legendary-state",
   "metadata": {},
   "source": [
    "# Making corrections\n",
    "\n",
    "Let's take a look at Bernie"
   ]
  },
  {
   "cell_type": "code",
   "execution_count": 87,
   "id": "color-inspiration",
   "metadata": {
    "tags": []
   },
   "outputs": [
    {
     "data": {
      "text/plain": [
       "<VerificationManager [<Verification: Verification object (459121)>, <Verification: Verification object (459122)>, <Verification: Verification object (459123)>]>"
      ]
     },
     "execution_count": 87,
     "metadata": {},
     "output_type": "execute_result"
    }
   ],
   "source": [
    "bernie.verifications.all()"
   ]
  },
  {
   "cell_type": "code",
   "execution_count": 88,
   "id": "boolean-holder",
   "metadata": {},
   "outputs": [
    {
     "data": {
      "text/html": [
       "<div>\n",
       "<style scoped>\n",
       "    .dataframe tbody tr th:only-of-type {\n",
       "        vertical-align: middle;\n",
       "    }\n",
       "\n",
       "    .dataframe tbody tr th {\n",
       "        vertical-align: top;\n",
       "    }\n",
       "\n",
       "    .dataframe thead th {\n",
       "        text-align: right;\n",
       "    }\n",
       "</style>\n",
       "<table border=\"1\" class=\"dataframe\">\n",
       "  <thead>\n",
       "    <tr style=\"text-align: right;\">\n",
       "      <th></th>\n",
       "      <th>id</th>\n",
       "      <th>field</th>\n",
       "      <th>user_id</th>\n",
       "      <th>timestamp</th>\n",
       "      <th>is_good</th>\n",
       "      <th>notes</th>\n",
       "      <th>corrected</th>\n",
       "      <th>content_type_id</th>\n",
       "      <th>object_id</th>\n",
       "    </tr>\n",
       "  </thead>\n",
       "  <tbody>\n",
       "    <tr>\n",
       "      <th>0</th>\n",
       "      <td>459121</td>\n",
       "      <td>politician</td>\n",
       "      <td>2</td>\n",
       "      <td>2021-05-25 10:34:25.656757</td>\n",
       "      <td>True</td>\n",
       "      <td></td>\n",
       "      <td>False</td>\n",
       "      <td>14</td>\n",
       "      <td>1316</td>\n",
       "    </tr>\n",
       "    <tr>\n",
       "      <th>1</th>\n",
       "      <td>459122</td>\n",
       "      <td>is_official</td>\n",
       "      <td>2</td>\n",
       "      <td>2021-05-25 10:34:25.676816</td>\n",
       "      <td>True</td>\n",
       "      <td></td>\n",
       "      <td>False</td>\n",
       "      <td>14</td>\n",
       "      <td>1316</td>\n",
       "    </tr>\n",
       "    <tr>\n",
       "      <th>2</th>\n",
       "      <td>459123</td>\n",
       "      <td>account_type</td>\n",
       "      <td>2</td>\n",
       "      <td>2021-05-25 10:39:04.878026</td>\n",
       "      <td>True</td>\n",
       "      <td></td>\n",
       "      <td>True</td>\n",
       "      <td>14</td>\n",
       "      <td>1316</td>\n",
       "    </tr>\n",
       "  </tbody>\n",
       "</table>\n",
       "</div>"
      ],
      "text/plain": [
       "       id         field  user_id                  timestamp  is_good notes  \\\n",
       "0  459121    politician        2 2021-05-25 10:34:25.656757     True         \n",
       "1  459122   is_official        2 2021-05-25 10:34:25.676816     True         \n",
       "2  459123  account_type        2 2021-05-25 10:39:04.878026     True         \n",
       "\n",
       "   corrected  content_type_id  object_id  \n",
       "0      False               14       1316  \n",
       "1      False               14       1316  \n",
       "2       True               14       1316  "
      ]
     },
     "execution_count": 88,
     "metadata": {},
     "output_type": "execute_result"
    }
   ],
   "source": [
    "pd.DataFrame.from_records(bernie.verifications.values())"
   ]
  },
  {
   "cell_type": "markdown",
   "id": "aquatic-funds",
   "metadata": {},
   "source": [
    "We've already verified everything, so if we try to change any of those fields, we'll get an error:"
   ]
  },
  {
   "cell_type": "code",
   "execution_count": 89,
   "id": "departmental-found",
   "metadata": {},
   "outputs": [
    {
     "ename": "VerifiedFieldLock",
     "evalue": "Cannot modify field account_type on object berniesanders (Bernard 'Bernie' Sanders) due to existing verification (currently 'pol_personal', attempted to replace with 'None')",
     "output_type": "error",
     "traceback": [
      "\u001b[0;31m---------------------------------------------------------------------------\u001b[0m",
      "\u001b[0;31mVerifiedFieldLock\u001b[0m                         Traceback (most recent call last)",
      "\u001b[0;32m<ipython-input-89-0656a88d47e0>\u001b[0m in \u001b[0;36m<module>\u001b[0;34m\u001b[0m\n\u001b[1;32m      1\u001b[0m \u001b[0mbernie\u001b[0m\u001b[0;34m.\u001b[0m\u001b[0maccount_type\u001b[0m \u001b[0;34m=\u001b[0m \u001b[0;32mNone\u001b[0m\u001b[0;34m\u001b[0m\u001b[0;34m\u001b[0m\u001b[0m\n\u001b[0;32m----> 2\u001b[0;31m \u001b[0mbernie\u001b[0m\u001b[0;34m.\u001b[0m\u001b[0msave\u001b[0m\u001b[0;34m(\u001b[0m\u001b[0;34m)\u001b[0m\u001b[0;34m\u001b[0m\u001b[0;34m\u001b[0m\u001b[0m\n\u001b[0m",
      "\u001b[0;32m/apps/prod/logos/logos/models/facebook.py\u001b[0m in \u001b[0;36msave\u001b[0;34m(self, *args, **kwargs)\u001b[0m\n\u001b[1;32m    203\u001b[0m             \u001b[0mself\u001b[0m\u001b[0;34m.\u001b[0m\u001b[0mfacebook_user\u001b[0m\u001b[0;34m.\u001b[0m\u001b[0mfacebook_id\u001b[0m \u001b[0;34m=\u001b[0m \u001b[0mself\u001b[0m\u001b[0;34m.\u001b[0m\u001b[0mfacebook_id\u001b[0m\u001b[0;34m\u001b[0m\u001b[0;34m\u001b[0m\u001b[0m\n\u001b[1;32m    204\u001b[0m             \u001b[0mself\u001b[0m\u001b[0;34m.\u001b[0m\u001b[0mfacebook_user\u001b[0m\u001b[0;34m.\u001b[0m\u001b[0msave\u001b[0m\u001b[0;34m(\u001b[0m\u001b[0;34m)\u001b[0m\u001b[0;34m\u001b[0m\u001b[0;34m\u001b[0m\u001b[0m\n\u001b[0;32m--> 205\u001b[0;31m         \u001b[0msuper\u001b[0m\u001b[0;34m(\u001b[0m\u001b[0mFacebookPage\u001b[0m\u001b[0;34m,\u001b[0m \u001b[0mself\u001b[0m\u001b[0;34m)\u001b[0m\u001b[0;34m.\u001b[0m\u001b[0msave\u001b[0m\u001b[0;34m(\u001b[0m\u001b[0;34m*\u001b[0m\u001b[0margs\u001b[0m\u001b[0;34m,\u001b[0m \u001b[0;34m**\u001b[0m\u001b[0mkwargs\u001b[0m\u001b[0;34m)\u001b[0m\u001b[0;34m\u001b[0m\u001b[0;34m\u001b[0m\u001b[0m\n\u001b[0m\u001b[1;32m    206\u001b[0m \u001b[0;34m\u001b[0m\u001b[0m\n\u001b[1;32m    207\u001b[0m     \u001b[0;32mdef\u001b[0m \u001b[0mupdate_from_json\u001b[0m\u001b[0;34m(\u001b[0m\u001b[0mself\u001b[0m\u001b[0;34m,\u001b[0m \u001b[0mpage_data\u001b[0m\u001b[0;34m=\u001b[0m\u001b[0;32mNone\u001b[0m\u001b[0;34m)\u001b[0m\u001b[0;34m:\u001b[0m\u001b[0;34m\u001b[0m\u001b[0;34m\u001b[0m\u001b[0m\n",
      "\u001b[0;32m/apps/prod/logos/src/django_verifications/django_verifications/models.py\u001b[0m in \u001b[0;36msave\u001b[0;34m(self, *args, **kwargs)\u001b[0m\n\u001b[1;32m     83\u001b[0m                     \u001b[0;32mif\u001b[0m \u001b[0moriginal_val\u001b[0m \u001b[0;34m!=\u001b[0m \u001b[0mcurrent_val\u001b[0m\u001b[0;34m:\u001b[0m\u001b[0;34m\u001b[0m\u001b[0;34m\u001b[0m\u001b[0m\n\u001b[1;32m     84\u001b[0m                         \u001b[0msetattr\u001b[0m\u001b[0;34m(\u001b[0m\u001b[0mself\u001b[0m\u001b[0;34m,\u001b[0m \u001b[0mfield\u001b[0m\u001b[0;34m,\u001b[0m \u001b[0moriginal_val\u001b[0m\u001b[0;34m)\u001b[0m\u001b[0;34m\u001b[0m\u001b[0;34m\u001b[0m\u001b[0m\n\u001b[0;32m---> 85\u001b[0;31m                         raise VerifiedFieldLock(\n\u001b[0m\u001b[1;32m     86\u001b[0m                             \u001b[0;34m\"Cannot modify field {} on object {} due to existing verification (currently '{}', \"\u001b[0m\u001b[0;34m\u001b[0m\u001b[0;34m\u001b[0m\u001b[0m\n\u001b[1;32m     87\u001b[0m                             \"attempted to replace with '{}')\".format(\n",
      "\u001b[0;31mVerifiedFieldLock\u001b[0m: Cannot modify field account_type on object berniesanders (Bernard 'Bernie' Sanders) due to existing verification (currently 'pol_personal', attempted to replace with 'None')"
     ]
    }
   ],
   "source": [
    "bernie.account_type = None\n",
    "bernie.save()"
   ]
  },
  {
   "cell_type": "markdown",
   "id": "knowing-rescue",
   "metadata": {},
   "source": [
    "As a demonstration, though - let's get rid of those verifications and get Bernie back in the queue so we can check out the interface."
   ]
  },
  {
   "cell_type": "code",
   "execution_count": 90,
   "id": "worth-garden",
   "metadata": {},
   "outputs": [],
   "source": [
    "bernie.verifications.all().delete()\n",
    "bernie.account_type = None\n",
    "bernie.save()"
   ]
  },
  {
   "cell_type": "code",
   "execution_count": 91,
   "id": "revised-castle",
   "metadata": {},
   "outputs": [
    {
     "name": "stdout",
     "output_type": "stream",
     "text": [
      "3058\n",
      "1\n",
      "3057\n",
      "0\n",
      "3057\n"
     ]
    }
   ],
   "source": [
    "print(FacebookPage.objects.flagged_for_verification().count())\n",
    "print(FacebookPage.objects.has_unexamined_fields().count())\n",
    "print(FacebookPage.objects.all_fields_good_or_corrected().count())\n",
    "print(FacebookPage.objects.any_field_incorrect().count())\n",
    "print(FacebookPage.objects.all_fields_examined().count())"
   ]
  },
  {
   "cell_type": "markdown",
   "id": "private-display",
   "metadata": {},
   "source": [
    "# ***Let's go into the interface and make corrections***\n",
    "https://logos.pewresearch.tech/verifications"
   ]
  },
  {
   "cell_type": "code",
   "execution_count": 92,
   "id": "motivated-fence",
   "metadata": {},
   "outputs": [
    {
     "name": "stdout",
     "output_type": "stream",
     "text": [
      "3058\n",
      "0\n",
      "3057\n",
      "1\n",
      "3058\n"
     ]
    }
   ],
   "source": [
    "print(FacebookPage.objects.flagged_for_verification().count())\n",
    "print(FacebookPage.objects.has_unexamined_fields().count())\n",
    "print(FacebookPage.objects.all_fields_good_or_corrected().count())\n",
    "print(FacebookPage.objects.any_field_incorrect().count())\n",
    "print(FacebookPage.objects.all_fields_examined().count())"
   ]
  },
  {
   "cell_type": "code",
   "execution_count": 93,
   "id": "impressed-celebration",
   "metadata": {},
   "outputs": [
    {
     "name": "stdout",
     "output_type": "stream",
     "text": [
      "3058\n",
      "0\n",
      "3058\n",
      "0\n",
      "3058\n"
     ]
    }
   ],
   "source": [
    "print(FacebookPage.objects.flagged_for_verification().count())\n",
    "print(FacebookPage.objects.has_unexamined_fields().count())\n",
    "print(FacebookPage.objects.all_fields_good_or_corrected().count())\n",
    "print(FacebookPage.objects.any_field_incorrect().count())\n",
    "print(FacebookPage.objects.all_fields_examined().count())"
   ]
  },
  {
   "cell_type": "code",
   "execution_count": 94,
   "id": "anonymous-sodium",
   "metadata": {},
   "outputs": [
    {
     "data": {
      "text/html": [
       "<div>\n",
       "<style scoped>\n",
       "    .dataframe tbody tr th:only-of-type {\n",
       "        vertical-align: middle;\n",
       "    }\n",
       "\n",
       "    .dataframe tbody tr th {\n",
       "        vertical-align: top;\n",
       "    }\n",
       "\n",
       "    .dataframe thead th {\n",
       "        text-align: right;\n",
       "    }\n",
       "</style>\n",
       "<table border=\"1\" class=\"dataframe\">\n",
       "  <thead>\n",
       "    <tr style=\"text-align: right;\">\n",
       "      <th></th>\n",
       "      <th>id</th>\n",
       "      <th>field</th>\n",
       "      <th>user_id</th>\n",
       "      <th>timestamp</th>\n",
       "      <th>is_good</th>\n",
       "      <th>notes</th>\n",
       "      <th>corrected</th>\n",
       "      <th>content_type_id</th>\n",
       "      <th>object_id</th>\n",
       "    </tr>\n",
       "  </thead>\n",
       "  <tbody>\n",
       "    <tr>\n",
       "      <th>0</th>\n",
       "      <td>459124</td>\n",
       "      <td>politician</td>\n",
       "      <td>2</td>\n",
       "      <td>2021-05-25 11:26:08.845798</td>\n",
       "      <td>True</td>\n",
       "      <td></td>\n",
       "      <td>False</td>\n",
       "      <td>14</td>\n",
       "      <td>1316</td>\n",
       "    </tr>\n",
       "    <tr>\n",
       "      <th>1</th>\n",
       "      <td>459125</td>\n",
       "      <td>is_official</td>\n",
       "      <td>2</td>\n",
       "      <td>2021-05-25 11:26:47.201979</td>\n",
       "      <td>True</td>\n",
       "      <td></td>\n",
       "      <td>True</td>\n",
       "      <td>14</td>\n",
       "      <td>1316</td>\n",
       "    </tr>\n",
       "    <tr>\n",
       "      <th>2</th>\n",
       "      <td>459126</td>\n",
       "      <td>account_type</td>\n",
       "      <td>2</td>\n",
       "      <td>2021-05-25 11:26:47.207914</td>\n",
       "      <td>True</td>\n",
       "      <td></td>\n",
       "      <td>True</td>\n",
       "      <td>14</td>\n",
       "      <td>1316</td>\n",
       "    </tr>\n",
       "  </tbody>\n",
       "</table>\n",
       "</div>"
      ],
      "text/plain": [
       "       id         field  user_id                  timestamp  is_good notes  \\\n",
       "0  459124    politician        2 2021-05-25 11:26:08.845798     True         \n",
       "1  459125   is_official        2 2021-05-25 11:26:47.201979     True         \n",
       "2  459126  account_type        2 2021-05-25 11:26:47.207914     True         \n",
       "\n",
       "   corrected  content_type_id  object_id  \n",
       "0      False               14       1316  \n",
       "1       True               14       1316  \n",
       "2       True               14       1316  "
      ]
     },
     "execution_count": 94,
     "metadata": {},
     "output_type": "execute_result"
    }
   ],
   "source": [
    "pd.DataFrame.from_records(bernie.verifications.values())"
   ]
  },
  {
   "cell_type": "code",
   "execution_count": 95,
   "id": "handed-sense",
   "metadata": {},
   "outputs": [
    {
     "ename": "VerifiedFieldLock",
     "evalue": "Cannot modify field account_type on object berniesanders (Bernard 'Bernie' Sanders) due to existing verification (currently 'pol_personal', attempted to replace with 'None')",
     "output_type": "error",
     "traceback": [
      "\u001b[0;31m---------------------------------------------------------------------------\u001b[0m",
      "\u001b[0;31mVerifiedFieldLock\u001b[0m                         Traceback (most recent call last)",
      "\u001b[0;32m<ipython-input-95-0656a88d47e0>\u001b[0m in \u001b[0;36m<module>\u001b[0;34m\u001b[0m\n\u001b[1;32m      1\u001b[0m \u001b[0mbernie\u001b[0m\u001b[0;34m.\u001b[0m\u001b[0maccount_type\u001b[0m \u001b[0;34m=\u001b[0m \u001b[0;32mNone\u001b[0m\u001b[0;34m\u001b[0m\u001b[0;34m\u001b[0m\u001b[0m\n\u001b[0;32m----> 2\u001b[0;31m \u001b[0mbernie\u001b[0m\u001b[0;34m.\u001b[0m\u001b[0msave\u001b[0m\u001b[0;34m(\u001b[0m\u001b[0;34m)\u001b[0m\u001b[0;34m\u001b[0m\u001b[0;34m\u001b[0m\u001b[0m\n\u001b[0m",
      "\u001b[0;32m/apps/prod/logos/logos/models/facebook.py\u001b[0m in \u001b[0;36msave\u001b[0;34m(self, *args, **kwargs)\u001b[0m\n\u001b[1;32m    203\u001b[0m             \u001b[0mself\u001b[0m\u001b[0;34m.\u001b[0m\u001b[0mfacebook_user\u001b[0m\u001b[0;34m.\u001b[0m\u001b[0mfacebook_id\u001b[0m \u001b[0;34m=\u001b[0m \u001b[0mself\u001b[0m\u001b[0;34m.\u001b[0m\u001b[0mfacebook_id\u001b[0m\u001b[0;34m\u001b[0m\u001b[0;34m\u001b[0m\u001b[0m\n\u001b[1;32m    204\u001b[0m             \u001b[0mself\u001b[0m\u001b[0;34m.\u001b[0m\u001b[0mfacebook_user\u001b[0m\u001b[0;34m.\u001b[0m\u001b[0msave\u001b[0m\u001b[0;34m(\u001b[0m\u001b[0;34m)\u001b[0m\u001b[0;34m\u001b[0m\u001b[0;34m\u001b[0m\u001b[0m\n\u001b[0;32m--> 205\u001b[0;31m         \u001b[0msuper\u001b[0m\u001b[0;34m(\u001b[0m\u001b[0mFacebookPage\u001b[0m\u001b[0;34m,\u001b[0m \u001b[0mself\u001b[0m\u001b[0;34m)\u001b[0m\u001b[0;34m.\u001b[0m\u001b[0msave\u001b[0m\u001b[0;34m(\u001b[0m\u001b[0;34m*\u001b[0m\u001b[0margs\u001b[0m\u001b[0;34m,\u001b[0m \u001b[0;34m**\u001b[0m\u001b[0mkwargs\u001b[0m\u001b[0;34m)\u001b[0m\u001b[0;34m\u001b[0m\u001b[0;34m\u001b[0m\u001b[0m\n\u001b[0m\u001b[1;32m    206\u001b[0m \u001b[0;34m\u001b[0m\u001b[0m\n\u001b[1;32m    207\u001b[0m     \u001b[0;32mdef\u001b[0m \u001b[0mupdate_from_json\u001b[0m\u001b[0;34m(\u001b[0m\u001b[0mself\u001b[0m\u001b[0;34m,\u001b[0m \u001b[0mpage_data\u001b[0m\u001b[0;34m=\u001b[0m\u001b[0;32mNone\u001b[0m\u001b[0;34m)\u001b[0m\u001b[0;34m:\u001b[0m\u001b[0;34m\u001b[0m\u001b[0;34m\u001b[0m\u001b[0m\n",
      "\u001b[0;32m/apps/prod/logos/src/django_verifications/django_verifications/models.py\u001b[0m in \u001b[0;36msave\u001b[0;34m(self, *args, **kwargs)\u001b[0m\n\u001b[1;32m     83\u001b[0m                     \u001b[0;32mif\u001b[0m \u001b[0moriginal_val\u001b[0m \u001b[0;34m!=\u001b[0m \u001b[0mcurrent_val\u001b[0m\u001b[0;34m:\u001b[0m\u001b[0;34m\u001b[0m\u001b[0;34m\u001b[0m\u001b[0m\n\u001b[1;32m     84\u001b[0m                         \u001b[0msetattr\u001b[0m\u001b[0;34m(\u001b[0m\u001b[0mself\u001b[0m\u001b[0;34m,\u001b[0m \u001b[0mfield\u001b[0m\u001b[0;34m,\u001b[0m \u001b[0moriginal_val\u001b[0m\u001b[0;34m)\u001b[0m\u001b[0;34m\u001b[0m\u001b[0;34m\u001b[0m\u001b[0m\n\u001b[0;32m---> 85\u001b[0;31m                         raise VerifiedFieldLock(\n\u001b[0m\u001b[1;32m     86\u001b[0m                             \u001b[0;34m\"Cannot modify field {} on object {} due to existing verification (currently '{}', \"\u001b[0m\u001b[0;34m\u001b[0m\u001b[0;34m\u001b[0m\u001b[0m\n\u001b[1;32m     87\u001b[0m                             \"attempted to replace with '{}')\".format(\n",
      "\u001b[0;31mVerifiedFieldLock\u001b[0m: Cannot modify field account_type on object berniesanders (Bernard 'Bernie' Sanders) due to existing verification (currently 'pol_personal', attempted to replace with 'None')"
     ]
    }
   ],
   "source": [
    "bernie.account_type = None\n",
    "bernie.save()"
   ]
  },
  {
   "cell_type": "code",
   "execution_count": null,
   "id": "stretch-operations",
   "metadata": {},
   "outputs": [],
   "source": []
  }
 ],
 "metadata": {
  "kernelspec": {
   "display_name": "Python 3",
   "language": "python",
   "name": "python3"
  },
  "language_info": {
   "codemirror_mode": {
    "name": "ipython",
    "version": 3
   },
   "file_extension": ".py",
   "mimetype": "text/x-python",
   "name": "python",
   "nbconvert_exporter": "python",
   "pygments_lexer": "ipython3",
   "version": "3.8.8"
  }
 },
 "nbformat": 4,
 "nbformat_minor": 5
}
